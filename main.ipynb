{
 "cells": [
  {
   "cell_type": "markdown",
   "metadata": {},
   "source": [
    "# IP WebCam url"
   ]
  },
  {
   "cell_type": "code",
   "execution_count": 5,
   "metadata": {},
   "outputs": [],
   "source": [
    "cameraUrl = \"http://192.168.43.3:8080/shot.jpg\""
   ]
  },
  {
   "cell_type": "markdown",
   "metadata": {},
   "source": [
    "# Mobile Camera Streaming"
   ]
  },
  {
   "cell_type": "code",
   "execution_count": 2,
   "metadata": {},
   "outputs": [],
   "source": [
    "import numpy as np;\n",
    "import requests;\n",
    "import cherrypy;\n",
    "import cv2;\n",
    "import IPython;\n",
    "import sys;\n",
    "from os import environ;"
   ]
  },
  {
   "cell_type": "code",
   "execution_count": 3,
   "metadata": {},
   "outputs": [],
   "source": [
    "cameraUrl = environ.get('url', cameraUrl);"
   ]
  },
  {
   "cell_type": "code",
   "execution_count": 4,
   "metadata": {},
   "outputs": [],
   "source": [
    "class CameraLocal():\n",
    "    \n",
    "    def __init__(self, cameraUrl):\n",
    "        self.url = cameraUrl;\n",
    "        \n",
    "    def getFrame(self):\n",
    "        img_resp = requests.get(self.url);\n",
    "        return img_resp;\n",
    "    \n",
    "    def getImage(self):\n",
    "        img = self.getFrame();\n",
    "        img = np.array(bytearray(img.content), dtype=np.uint8);\n",
    "        \n",
    "        img = cv2.imdecode(img, cv2.IMREAD_COLOR);\n",
    "        img = cv2.cvtColor(img, cv2.COLOR_BGR2RGB)\n",
    "\n",
    "        return img;"
   ]
  },
  {
   "cell_type": "code",
   "execution_count": 5,
   "metadata": {},
   "outputs": [],
   "source": [
    "class CameraWebService():\n",
    "    \n",
    "    def __init__(self, camera):\n",
    "        self.camera = camera;\n",
    "    \n",
    "    @cherrypy.expose\n",
    "    def index(self):\n",
    "        output = self.camera.getFrame();\n",
    "        return output"
   ]
  },
  {
   "cell_type": "code",
   "execution_count": 6,
   "metadata": {},
   "outputs": [],
   "source": [
    "def testCaptureImage():\n",
    "    video = CameraLocal(cameraUrl);\n",
    "    \n",
    "    img = video.getImage();\n",
    "    img = cv2.cvtColor(img, cv2.COLOR_RGB2BGR);\n",
    "    \n",
    "    cv2.imshow('Android Camera', img);\n",
    "    cv2.waitKey(0);"
   ]
  },
  {
   "cell_type": "code",
   "execution_count": 7,
   "metadata": {},
   "outputs": [],
   "source": [
    "def launchService():\n",
    "    service = CameraWebService(CameraLocal(cameraUrl));\n",
    "    cherrypy.quickstart(service);"
   ]
  },
  {
   "cell_type": "code",
   "execution_count": 8,
   "metadata": {
    "scrolled": true,
    "pycharm": {
     "name": "#%%\n"
    }
   },
   "outputs": [
    {
     "name": "stdout",
     "output_type": "stream",
     "text": [
      "nope.com\n"
     ]
    }
   ],
   "source": [
    "print(cameraUrl);\n",
    "# testCaptureImage();\n",
    "launchService();\n",
    "\n"
   ]
  }
 ],
 "metadata": {
  "kernelspec": {
   "name": "pycharm-ad0ef9b5",
   "language": "python",
   "display_name": "PyCharm (AIR_project)"
  },
  "language_info": {
   "codemirror_mode": {
    "name": "ipython",
    "version": 3
   },
   "file_extension": ".py",
   "mimetype": "text/x-python",
   "name": "python",
   "nbconvert_exporter": "python",
   "pygments_lexer": "ipython3",
   "version": "3.6.5"
  }
 },
 "nbformat": 4,
 "nbformat_minor": 1
}