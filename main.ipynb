{
 "cells": [
  {
   "cell_type": "markdown",
   "metadata": {},
   "source": [
    "# IP WebCam url"
   ]
  },
  {
   "cell_type": "code",
   "execution_count": 2,
   "metadata": {},
   "outputs": [],
   "source": [
    "cameraUrl = \"http://192.168.0.103:8080/shot.jpg\";"
   ]
  },
  {
   "cell_type": "markdown",
   "metadata": {},
   "source": [
    "# Mobile Camera Streaming"
   ]
  },
  {
   "cell_type": "code",
   "execution_count": 3,
   "metadata": {},
   "outputs": [],
   "source": [
    "import numpy as np;\n",
    "import requests;\n",
    "import cherrypy;\n",
    "import cv2;\n",
    "import IPython;\n",
    "import sys;"
   ]
  },
  {
   "cell_type": "code",
   "execution_count": 4,
   "metadata": {},
   "outputs": [],
   "source": [
    "# class CameraLocal(VideoStreamBase):\n",
    "class CameraLocal():\n",
    "    \n",
    "    def __init__(self, cameraUrl):\n",
    "        self.url = cameraUrl;\n",
    "        \n",
    "    def getFrame(self):\n",
    "        img_resp = requests.get(self.url);\n",
    "        return img_resp;\n",
    "    \n",
    "    def getImage(self):\n",
    "        img = self.getFrame();\n",
    "        img = np.array(bytearray(img.content), dtype=np.uint8);\n",
    "        \n",
    "        img = cv2.imdecode(img, cv2.IMREAD_COLOR);\n",
    "        img = cv2.cvtColor(img, cv2.COLOR_BGR2RGB)\n",
    "\n",
    "        return img;"
   ]
  },
  {
   "cell_type": "code",
   "execution_count": 5,
   "metadata": {},
   "outputs": [],
   "source": [
    "class CameraWebService():\n",
    "    \n",
    "    def __init__(self, camera):\n",
    "        self.camera = camera;\n",
    "    \n",
    "    @cherrypy.expose\n",
    "    def index(self):\n",
    "        output = self.camera.getFrame();\n",
    "        return output"
   ]
  },
  {
   "cell_type": "code",
   "execution_count": 6,
   "metadata": {},
   "outputs": [],
   "source": [
    "def testCaptureImage():\n",
    "    video = CameraLocal(cameraUrl);\n",
    "    \n",
    "    img = video.getImage();\n",
    "    img = cv2.cvtColor(img, cv2.COLOR_RGB2BGR);\n",
    "    \n",
    "    cv2.imshow('Android Camera', img);\n",
    "    cv2.waitKey(0);"
   ]
  },
  {
   "cell_type": "code",
   "execution_count": 7,
   "metadata": {},
   "outputs": [],
   "source": [
    "def launchService(url):\n",
    "    service = CameraWebService(CameraLocal(url));\n",
    "    cherrypy.quickstart(service);"
   ]
  },
  {
   "cell_type": "code",
   "execution_count": 10,
   "metadata": {},
   "outputs": [],
   "source": [
    "def main():\n",
    "    url = cameraUrl if len(sys.argv) != 2 else sys.argv[1];\n",
    "    launchService(url);"
   ]
  },
  {
   "cell_type": "code",
   "execution_count": 9,
   "metadata": {},
   "outputs": [],
   "source": [
    "# testCaptureImage();\n",
    "main();"
   ]
  }
 ],
 "metadata": {
  "kernelspec": {
   "display_name": "Python 3",
   "language": "python",
   "name": "python3"
  },
  "language_info": {
   "codemirror_mode": {
    "name": "ipython",
    "version": 3
   },
   "file_extension": ".py",
   "mimetype": "text/x-python",
   "name": "python",
   "nbconvert_exporter": "python",
   "pygments_lexer": "ipython3",
   "version": "3.7.6"
  }
 },
 "nbformat": 4,
 "nbformat_minor": 4
}
