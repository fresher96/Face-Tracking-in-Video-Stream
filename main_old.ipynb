{
 "cells": [
  {
   "cell_type": "markdown",
   "metadata": {
    "colab_type": "text",
    "id": "k9yj3JpQ6bHa"
   },
   "source": [
    "# Configurations"
   ]
  },
  {
   "cell_type": "markdown",
   "metadata": {
    "colab_type": "text",
    "id": "5bwo9Lh46hHZ"
   },
   "source": [
    "## Config Variables"
   ]
  },
  {
   "cell_type": "code",
   "execution_count": 16,
   "metadata": {
    "colab": {},
    "colab_type": "code",
    "id": "PSWxqaZxd-eI"
   },
   "outputs": [],
   "source": [
    "# online setting\n",
    "# cameraUrl   = 'http://eeba6d36.ngrok.io';\n",
    "# drive       = 'drive/My Drive/';\n",
    "# models = ['cnn', 'large'];\n",
    "\n",
    "# local setting\n",
    "drive       = 'E:/CLCs/drive/';\n",
    "cameraUrl   = 'http://192.168.0.103:8080/shot.jpg';\n",
    "models = ['hog', 'small'];\n",
    "\n",
    "\n",
    "videoFile   = drive + 'colab/videos/sample4.mp4'\n",
    "facesDir    = drive + 'colab/faces/'\n",
    "videosDir   = drive + 'colab/videos/'\n",
    "outputFile  = drive + 'colab/output.mp4'"
   ]
  },
  {
   "cell_type": "markdown",
   "metadata": {
    "colab_type": "text",
    "id": "cH90as_P6n-s"
   },
   "source": [
    "## Dependencies"
   ]
  },
  {
   "cell_type": "code",
   "execution_count": 2,
   "metadata": {
    "colab": {
     "base_uri": "https://localhost:8080/",
     "height": 423.0
    },
    "colab_type": "code",
    "executionInfo": {
     "elapsed": 6039.0,
     "status": "ok",
     "timestamp": 1.585772610261E12,
     "user": {
      "displayName": "Farouk Hjabo",
      "photoUrl": "https://lh3.googleusercontent.com/a-/AOh14GgeYyVgM-eGHsB38fH-dPKl_Fo5V5xQR5QP3JIRSg=s64",
      "userId": "13198994038839746740"
     },
     "user_tz": -180.0
    },
    "id": "2d9j6I_1XTi7",
    "outputId": "72192440-fcf4-4d04-f766-1b92036dc483",
    "scrolled": true
   },
   "outputs": [
    {
     "name": "stdout",
     "output_type": "stream",
     "text": [
      "Requirement already satisfied: dlib in c:\\users\\al_noor\\appdata\\local\\programs\\python\\python36\\lib\\site-packages (19.8.1)\n",
      "Requirement already satisfied: face_recognition in c:\\users\\al_noor\\appdata\\local\\programs\\python\\python36\\lib\\site-packages (1.3.0)\n",
      "Requirement already satisfied: opencv-python in c:\\users\\al_noor\\appdata\\local\\programs\\python\\python36\\lib\\site-packages (4.2.0.32)\n",
      "Requirement already satisfied: ipdb in c:\\users\\al_noor\\appdata\\local\\programs\\python\\python36\\lib\\site-packages (0.13.2)\n",
      "Requirement already satisfied: Pillow in c:\\users\\al_noor\\appdata\\local\\programs\\python\\python36\\lib\\site-packages (from face_recognition) (7.0.0)\n",
      "Requirement already satisfied: face-recognition-models>=0.3.0 in c:\\users\\al_noor\\appdata\\local\\programs\\python\\python36\\lib\\site-packages (from face_recognition) (0.3.0)\n",
      "Requirement already satisfied: numpy in c:\\users\\al_noor\\appdata\\local\\programs\\python\\python36\\lib\\site-packages (from face_recognition) (1.18.2)\n",
      "Requirement already satisfied: Click>=6.0 in c:\\users\\al_noor\\appdata\\local\\programs\\python\\python36\\lib\\site-packages (from face_recognition) (7.1.1)\n",
      "Requirement already satisfied: setuptools in c:\\users\\al_noor\\appdata\\local\\programs\\python\\python36\\lib\\site-packages (from ipdb) (39.0.1)\n",
      "Requirement already satisfied: ipython>=5.1.0 in c:\\users\\al_noor\\appdata\\local\\programs\\python\\python36\\lib\\site-packages (from ipdb) (7.13.0)\n",
      "Requirement already satisfied: decorator in c:\\users\\al_noor\\appdata\\local\\programs\\python\\python36\\lib\\site-packages (from ipython>=5.1.0->ipdb) (4.4.2)\n",
      "Requirement already satisfied: traitlets>=4.2 in c:\\users\\al_noor\\appdata\\local\\programs\\python\\python36\\lib\\site-packages (from ipython>=5.1.0->ipdb) (4.3.3)\n",
      "Requirement already satisfied: prompt-toolkit!=3.0.0,!=3.0.1,<3.1.0,>=2.0.0 in c:\\users\\al_noor\\appdata\\local\\programs\\python\\python36\\lib\\site-packages (from ipython>=5.1.0->ipdb) (3.0.3)\n",
      "Requirement already satisfied: pygments in c:\\users\\al_noor\\appdata\\local\\programs\\python\\python36\\lib\\site-packages (from ipython>=5.1.0->ipdb) (2.6.1)\n",
      "Requirement already satisfied: pickleshare in c:\\users\\al_noor\\appdata\\local\\programs\\python\\python36\\lib\\site-packages (from ipython>=5.1.0->ipdb) (0.7.5)\n",
      "Requirement already satisfied: jedi>=0.10 in c:\\users\\al_noor\\appdata\\local\\programs\\python\\python36\\lib\\site-packages (from ipython>=5.1.0->ipdb) (0.16.0)\n",
      "Requirement already satisfied: colorama; sys_platform == \"win32\" in c:\\users\\al_noor\\appdata\\local\\programs\\python\\python36\\lib\\site-packages (from ipython>=5.1.0->ipdb) (0.4.3)\n",
      "Requirement already satisfied: backcall in c:\\users\\al_noor\\appdata\\local\\programs\\python\\python36\\lib\\site-packages (from ipython>=5.1.0->ipdb) (0.1.0)\n",
      "Requirement already satisfied: six in c:\\users\\al_noor\\appdata\\local\\programs\\python\\python36\\lib\\site-packages (from traitlets>=4.2->ipython>=5.1.0->ipdb) (1.14.0)\n",
      "Requirement already satisfied: ipython-genutils in c:\\users\\al_noor\\appdata\\local\\programs\\python\\python36\\lib\\site-packages (from traitlets>=4.2->ipython>=5.1.0->ipdb) (0.2.0)\n",
      "Requirement already satisfied: wcwidth in c:\\users\\al_noor\\appdata\\local\\programs\\python\\python36\\lib\\site-packages (from prompt-toolkit!=3.0.0,!=3.0.1,<3.1.0,>=2.0.0->ipython>=5.1.0->ipdb) (0.1.9)\n",
      "Requirement already satisfied: parso>=0.5.2 in c:\\users\\al_noor\\appdata\\local\\programs\\python\\python36\\lib\\site-packages (from jedi>=0.10->ipython>=5.1.0->ipdb) (0.6.2)\n"
     ]
    }
   ],
   "source": [
    "!pip install dlib face_recognition opencv-python ipdb"
   ]
  },
  {
   "cell_type": "markdown",
   "metadata": {
    "colab_type": "text",
    "id": "0Nn1OnH47EXc"
   },
   "source": [
    "# Main Classes"
   ]
  },
  {
   "cell_type": "code",
   "execution_count": 17,
   "metadata": {
    "colab": {},
    "colab_type": "code",
    "id": "8feCFhLm9KDj"
   },
   "outputs": [],
   "source": [
    "import numpy as np;\n",
    "import cv2;\n",
    "import math;\n",
    "from tqdm.notebook import tqdm;\n",
    "from time import sleep;\n",
    "import termcolor;\n",
    "from ipdb import set_trace;\n",
    "\n",
    "\n",
    "class VideoStreamBase():\n",
    "\n",
    "    def __del__(self):\n",
    "        cv2.VideoCapture(0).release();\n",
    "        cv2.destroyAllWindows();\n",
    "\n",
    "    def getImage(self) -> np.ndarray:\n",
    "        raise NotImplementedError();\n",
    "\n",
    "    def displayVideo(self, limit: int = 0, lag: int = 0, display_id: int = 1, width: int = 400, height: int = 200):\n",
    "        try:\n",
    "            while(self.displayImage(display_id, width, height)):\n",
    "                sleep(lag);\n",
    "        except(KeyboardInterrupt):\n",
    "            print(termcolor.colored('video stream stopped voluntarily', 'green'));\n",
    "\n",
    "    def displayImage(self, display_id: int = None, width: int = 400, height: int = 200, img = None) -> bool:\n",
    "        img = self.getImage() if img is None else img;\n",
    "        if(img is None): return False;\n",
    "\n",
    "        img = PIL.Image.fromarray(img, 'RGB')\n",
    "        buffer = BytesIO()\n",
    "        img.save(buffer, format=\"jpeg\")\n",
    "        display(\n",
    "            IPython.display.Image(\n",
    "                data=buffer.getvalue(), format='jpeg', width=width, height=height\n",
    "                ), display_id=display_id);\n",
    "\n",
    "        return True;\n",
    "        \n",
    "    def __len__(self):\n",
    "        raise NotImplementedError();\n",
    "    \n",
    "    def fps(self):\n",
    "        raise NotImplementedError();\n",
    "\n",
    "    def download(self, path: str = 'output.mp4', fps: float = None, limit: int = None, display: bool = False,\n",
    "                 safeMode: bool = True, width: int = None, height: int = None):\n",
    "\n",
    "        nFrame = len(self) - 1 if limit is None else limit;\n",
    "        if(nFrame == 0): raise Exception('No Frames Found');\n",
    "\n",
    "        img = self.getImage();\n",
    "\n",
    "        if(height is None): height = img.shape[0];\n",
    "        if(width  is None): width  = img.shape[1];\n",
    "\n",
    "        fourcc =  cv2.VideoWriter_fourcc(*'XVID');\n",
    "        fps_ = self.fps() if fps is None else fps;\n",
    "        outputVideo = cv2.VideoWriter(path, fourcc, fps_, (width, height), 1)\n",
    "        \n",
    "        # set_trace();\n",
    "        with tqdm(total=nFrame) as progressbar:\n",
    "            currentFrame = 0;\n",
    "            nextImg = None;\n",
    "            while(currentFrame < nFrame and img is not None):\n",
    "                try:\n",
    "                    if(display): self.displayImage(1, width, height, img);\n",
    "                    img = cv2.cvtColor(img, cv2.COLOR_BGR2RGB);\n",
    "                    nextImg = self.getImage();\n",
    "                except Exception as e:\n",
    "                    if(safeMode):\n",
    "                        print(colored('Exception:', 'red'));\n",
    "                        print(e);\n",
    "                    else:\n",
    "                        raise e;\n",
    "\n",
    "                outputVideo.write(img);\n",
    "                currentFrame += 1;\n",
    "                progressbar.update(1);\n",
    "                img = nextImg;\n",
    "\n",
    "        outputVideo.release();"
   ]
  },
  {
   "cell_type": "code",
   "execution_count": 18,
   "metadata": {
    "colab": {},
    "colab_type": "code",
    "id": "17WjKGghJKRJ"
   },
   "outputs": [],
   "source": [
    "import face_recognition\n",
    "import os\n",
    "\n",
    "\n",
    "class FaceDetector(VideoStreamBase):\n",
    "\n",
    "    video: VideoStreamBase\n",
    "    \n",
    "    def __len__(self):\n",
    "        return len(self.video);\n",
    "\n",
    "    def fps(self):\n",
    "        return self.video.fps();\n",
    "\n",
    "    def __init__(self, video: VideoStreamBase, facesDir: str):\n",
    "        self.video = video;\n",
    "\n",
    "        self.known_faces = [];\n",
    "        self.known_names = [];\n",
    "        for file in os.listdir(facesDir):\n",
    "            if(file.endswith('.jpg')): \n",
    "                path = os.path.join(facesDir, file);\n",
    "                name = file[:-4];\n",
    "\n",
    "                img = face_recognition.load_image_file(path);\n",
    "                face_encoding = face_recognition.face_encodings(img)[0]\n",
    "\n",
    "                self.known_faces.append(face_encoding);\n",
    "                self.known_names.append(name);\n",
    "\n",
    "    def getImage(self):\n",
    "        img = self.video.getImage();\n",
    "        if(img is None): return None;\n",
    "\n",
    "        face_locations = face_recognition.face_locations(img, model=models[0])\n",
    "        face_encodings = face_recognition.face_encodings(img, face_locations, model=models[1])\n",
    "\n",
    "        people = [];\n",
    "        for face_encoding in face_encodings:\n",
    "            tolerance = 0.60;\n",
    "            # match = face_recognition.compare_faces(self.known_faces, face_encoding, tolerance=tolerance)\n",
    "            match = face_recognition.face_distance(self.known_faces, face_encoding)\n",
    "\n",
    "            # id = np.argmax(match);\n",
    "            # name = self.known_names[id] if match[id] else None;\n",
    "\n",
    "            id = np.argmin(match);\n",
    "            name = self.known_names[id] if match[id] <= tolerance else None;\n",
    "\n",
    "            people.append(name);\n",
    "\n",
    "        for (top, right, bottom, left), name in zip(face_locations, people):\n",
    "            color = (255, 0, 0) if name is None else (0, 255, 0);\n",
    "            cv2.rectangle(img, (left, top), (right, bottom), color, 2);\n",
    "\n",
    "            if(name is None): continue;\n",
    "\n",
    "            cv2.rectangle(img, (left, bottom - 42), (right, bottom), color, cv2.FILLED)\n",
    "            font = cv2.FONT_HERSHEY_DUPLEX\n",
    "            cv2.putText(img, name, (left + 5, bottom - 8), font, 1.5, (0, 0, 0), 2);\n",
    "\n",
    "        return img;\n",
    "\n",
    "# video = FaceDetector(VideoReader(videoFile), facesDir);\n",
    "# video.download(outputFile, 25);"
   ]
  },
  {
   "cell_type": "markdown",
   "metadata": {
    "colab_type": "text",
    "id": "sk8VoVncUIW3"
   },
   "source": [
    "# Offile Setting"
   ]
  },
  {
   "cell_type": "code",
   "execution_count": 19,
   "metadata": {
    "colab": {},
    "colab_type": "code",
    "id": "uM4bq0Pk65MB"
   },
   "outputs": [],
   "source": [
    "import numpy as np\n",
    "import cv2\n",
    "# from google.colab.patches import cv2_imshow\n",
    "from io import BytesIO\n",
    "import IPython\n",
    "import PIL\n",
    "\n",
    "\n",
    "class VideoReader(VideoStreamBase):\n",
    "    \n",
    "    def __init__(self, file):\n",
    "        self.capture = cv2.VideoCapture(file)\n",
    "\n",
    "    def __del__(self):\n",
    "        self.capture.release()\n",
    "        super(VideoReader, self).__del__();\n",
    "\n",
    "    def __len__(self):\n",
    "        return int(self.capture.get(cv2.CAP_PROP_FRAME_COUNT));\n",
    "\n",
    "    def fps(self):\n",
    "        return self.capture.get(cv2.CAP_PROP_FPS);\n",
    "\n",
    "    def getImage(self):\n",
    "        ret, frame = self.capture.read()\n",
    "        if(ret == False): return None;\n",
    "        \n",
    "        frame = cv2.cvtColor(frame, cv2.COLOR_BGR2RGB)\n",
    "        return frame;\n",
    "\n",
    "# video = VideoReader(videoFile);\n",
    "# video.displayImage();"
   ]
  },
  {
   "cell_type": "code",
   "execution_count": 20,
   "metadata": {
    "colab": {
     "base_uri": "https://localhost:8080/",
     "height": 67.0,
     "referenced_widgets": [
      "bc5b4b5506ef410bbcdbc81186d03ece",
      "b3946a8a63b6419ea391989dadbb6ceb",
      "fab427ca30ed482fa78d5e69e419a6ac",
      "9618acda0033425d98a0c46513777009",
      "f902fbc0923546e38862d993aa5e78f0",
      "b9aa079d35274231b9a666636ef8ac73",
      "9dd5a3eb73464580bc8cf20b3c4e375b",
      "9d8fc3840b1f45418ab37a3f9393d51b"
     ]
    },
    "colab_type": "code",
    "executionInfo": {
     "elapsed": 102283.0,
     "status": "ok",
     "timestamp": 1.585572856785E12,
     "user": {
      "displayName": "Farouk Hjabo",
      "photoUrl": "https://lh3.googleusercontent.com/a-/AOh14GgeYyVgM-eGHsB38fH-dPKl_Fo5V5xQR5QP3JIRSg=s64",
      "userId": "13198994038839746740"
     },
     "user_tz": -180.0
    },
    "id": "m-VcfHljFQNx",
    "outputId": "3130cbc1-dcb5-4ca0-90bc-d276fd0f395c",
    "scrolled": false
   },
   "outputs": [],
   "source": [
    "# videoFile = drive + 'colab/videos/sample4.mp4'\n",
    "# video = FaceDetector(VideoReader(videoFile), facesDir);\n",
    "# video.download(outputFile);"
   ]
  },
  {
   "cell_type": "markdown",
   "metadata": {
    "colab_type": "text",
    "id": "jS0uydjoUM_2"
   },
   "source": [
    "# Online Setting"
   ]
  },
  {
   "cell_type": "code",
   "execution_count": 21,
   "metadata": {
    "colab": {
     "base_uri": "https://localhost:8080/",
     "height": 217.0
    },
    "colab_type": "code",
    "executionInfo": {
     "elapsed": 5005.0,
     "status": "ok",
     "timestamp": 1.585575899963E12,
     "user": {
      "displayName": "Farouk Hjabo",
      "photoUrl": "https://lh3.googleusercontent.com/a-/AOh14GgeYyVgM-eGHsB38fH-dPKl_Fo5V5xQR5QP3JIRSg=s64",
      "userId": "13198994038839746740"
     },
     "user_tz": -180.0
    },
    "id": "04a0vyciUQwx",
    "outputId": "ac458efa-cb2a-427a-e56c-ace09723be98"
   },
   "outputs": [],
   "source": [
    "import numpy as np;\n",
    "import requests;\n",
    "import cv2;\n",
    "from time import sleep;\n",
    "\n",
    "class Camera(VideoStreamBase):\n",
    "\n",
    "    def __init__(self, url):\n",
    "        self.url = url;\n",
    "\n",
    "    def getFrame(self):\n",
    "        img_resp = requests.get(self.url);\n",
    "        return img_resp;\n",
    "\n",
    "    def getImage(self):\n",
    "        img = self.getFrame();\n",
    "        img = np.array(bytearray(img.content), dtype=np.uint8);\n",
    "        \n",
    "        img = cv2.imdecode(img, cv2.IMREAD_COLOR);\n",
    "        img = cv2.cvtColor(img, cv2.COLOR_BGR2RGB)\n",
    "\n",
    "        return img;\n",
    "\n",
    "\n",
    "# camera = Camera(cameraUrl);\n",
    "# camera.displayImage();"
   ]
  },
  {
   "cell_type": "code",
   "execution_count": 22,
   "metadata": {
    "colab": {
     "base_uri": "https://localhost:8080/",
     "height": 787.0,
     "referenced_widgets": [
      "00077e48d32944f48df7403d7e85de2b",
      "51d11795cfad440c9af57e542f3b822c",
      "5d4b945074cc47e8bbebcd62f5922b3b",
      "890d496bb8a4485d8c122b13ed54a5f8",
      "1b2e12003ff54b95b51a0d9b4e5fddf2",
      "b7fed69ed303478895f8c341717177b9",
      "7d3afa07de2642188630eb63c5c275d5",
      "5820b3a726ea4b63b0c8f8e37804d026"
     ]
    },
    "colab_type": "code",
    "executionInfo": {
     "elapsed": 533184.0,
     "status": "ok",
     "timestamp": 1.585566013453E12,
     "user": {
      "displayName": "Farouk Hjabo",
      "photoUrl": "https://lh3.googleusercontent.com/a-/AOh14GgeYyVgM-eGHsB38fH-dPKl_Fo5V5xQR5QP3JIRSg=s64",
      "userId": "13198994038839746740"
     },
     "user_tz": -180.0
    },
    "id": "glr4f0YawJHB",
    "outputId": "d1586aae-b7ac-40ec-a953-1dd623d1f02d"
   },
   "outputs": [],
   "source": [
    "# video = FaceDetector(Camera(cameraUrl), facesDir);\n",
    "# video.download(outputFile, fps=10, limit=200, display=True);"
   ]
  },
  {
   "cell_type": "markdown",
   "source": [
    "# Main Classes for Local Setting"
   ],
   "metadata": {
    "collapsed": false
   }
  },
  {
   "cell_type": "code",
   "execution_count": null,
   "outputs": [],
   "source": [
    "import numpy as np;\n",
    "import cv2;\n",
    "import termcolor;\n",
    "\n",
    "\n",
    "class LocalVideoStream(VideoStreamBase):\n",
    "\n",
    "    def displayVideo(self, displayName = 'Streaming'):\n",
    "        capture.set(cv2.CAP_PROP_FPS, fps)\n",
    "        while(True):\n",
    "            img = self.getImage();\n",
    "\n",
    "            img = cv2.cvtColor(img, cv2.COLOR_RGB2BGR);\n",
    "            cv2.imshow(displayName, img);\n",
    "\n",
    "            if(cv2.waitKey(1) & 0xFF == ord('q')): # press `q` to break\n",
    "                break;\n",
    "\n",
    "\n",
    "        print(termcolor.colored('video stream stopped voluntarily', 'green'));\n",
    "        print(termcolor.colored('WARNING: object deleted', 'yellow'));\n",
    "#         self.__del__();\n",
    "        super(LocalVideoStream, self).__del__();\n",
    "\n",
    "\n",
    "\n"
   ],
   "metadata": {
    "collapsed": false,
    "pycharm": {
     "name": "#%%\n"
    }
   }
  },
  {
   "cell_type": "code",
   "execution_count": 24,
   "metadata": {
    "colab": {},
    "colab_type": "code",
    "id": "NNVogk2pcMtv"
   },
   "outputs": [],
   "source": [
    "class LocalFaceDetector(LocalVideoStream, FaceDetector):\n",
    "    def __init__(self, video: VideoStreamBase, facesDir: str):\n",
    "        super(LocalFaceDetector, self).__init__(video, facesDir);"
   ]
  },
  {
   "cell_type": "markdown",
   "metadata": {
    "colab_type": "text",
    "id": "c_fHVCN9a-Ou"
   },
   "source": [
    "# Laptop Webcam Setting"
   ]
  },
  {
   "cell_type": "code",
   "execution_count": 25,
   "metadata": {
    "colab": {},
    "colab_type": "code",
    "id": "_UVfhnW-cFV2"
   },
   "outputs": [],
   "source": [
    "import numpy as np;\n",
    "import cv2;\n",
    "\n",
    "\n",
    "class WebCam(LocalVideoStream):\n",
    "\n",
    "    def __init__(self, deviceId: int = 0):\n",
    "        self.capture = cv2.VideoCapture(deviceId);\n",
    "    \n",
    "    def Test(self):\n",
    "        print('child');\n",
    "        \n",
    "#     def __del__(self):\n",
    "#         print('releasing capture');\n",
    "#         self.capture.release();\n",
    "#         super(WebCam, self).__del__();\n",
    "\n",
    "    def getImage(self):\n",
    "        ret, img = self.capture.read();\n",
    "        if(not ret): return None;\n",
    "\n",
    "        img = cv2.cvtColor(img, cv2.COLOR_BGR2RGB)\n",
    "        return img;\n",
    "\n",
    "# video = WebCam();\n",
    "# video.displayVideo();"
   ]
  },
  {
   "cell_type": "code",
   "execution_count": 26,
   "metadata": {
    "colab": {},
    "colab_type": "code",
    "id": "MeI56cwcd3S5",
    "collapsed": false
   },
   "outputs": [
    {
     "name": "stdout",
     "output_type": "stream",
     "text": [
      "\u001B[32mvideo stream stopped voluntarily\u001B[0m\n",
      "\u001B[33mWARNING: object deleted\u001B[0m\n"
     ]
    }
   ],
   "source": [
    "video = LocalFaceDetector(WebCam(), facesDir);\n",
    "video.displayVideo();"
   ]
  },
  {
   "cell_type": "markdown",
   "metadata": {
    "colab_type": "text",
    "id": "d5bN5dYMccit"
   },
   "source": [
    "# Local Setting"
   ]
  },
  {
   "cell_type": "code",
   "execution_count": 0,
   "metadata": {
    "colab": {},
    "colab_type": "code",
    "id": "SquQMtU5cfzk"
   },
   "outputs": [],
   "source": [
    "class LocalCamera(LocalVideoStream, Camera):\n",
    "    def __init__(self, url: str):\n",
    "        super(LocalCamera, self).__init__(url);\n",
    "        \n",
    "# video = LocalCamera(cameraUrl);\n",
    "# video.displayVideo();"
   ]
  },
  {
   "cell_type": "code",
   "execution_count": 0,
   "metadata": {
    "colab": {},
    "colab_type": "code",
    "id": "L1XEofUFck8N"
   },
   "outputs": [],
   "source": [
    "# video = LocalFaceDetector(LocalCamera(cameraUrl), facesDir);\n",
    "# video.displayVideo();"
   ]
  }
 ],
 "metadata": {
  "accelerator": "GPU",
  "colab": {
   "collapsed_sections": [],
   "name": "AIR0_project",
   "provenance": [],
   "toc_visible": true
  },
  "kernelspec": {
   "name": "pycharm-ad0ef9b5",
   "language": "python",
   "display_name": "PyCharm (AIR_project)"
  },
  "language_info": {
   "codemirror_mode": {
    "name": "ipython",
    "version": 3
   },
   "file_extension": ".py",
   "mimetype": "text/x-python",
   "name": "python",
   "nbconvert_exporter": "python",
   "pygments_lexer": "ipython3",
   "version": "3.6.5"
  },
  "widgets": {
   "application/vnd.jupyter.widget-state+json": {
    "00077e48d32944f48df7403d7e85de2b": {
     "model_module": "@jupyter-widgets/controls",
     "model_name": "HBoxModel",
     "state": {
      "_dom_classes": [],
      "_model_module": "@jupyter-widgets/controls",
      "_model_module_version": "1.5.0",
      "_model_name": "HBoxModel",
      "_view_count": null,
      "_view_module": "@jupyter-widgets/controls",
      "_view_module_version": "1.5.0",
      "_view_name": "HBoxView",
      "box_style": "",
      "children": [
       "IPY_MODEL_5d4b945074cc47e8bbebcd62f5922b3b",
       "IPY_MODEL_890d496bb8a4485d8c122b13ed54a5f8"
      ],
      "layout": "IPY_MODEL_51d11795cfad440c9af57e542f3b822c"
     }
    },
    "1b2e12003ff54b95b51a0d9b4e5fddf2": {
     "model_module": "@jupyter-widgets/controls",
     "model_name": "ProgressStyleModel",
     "state": {
      "_model_module": "@jupyter-widgets/controls",
      "_model_module_version": "1.5.0",
      "_model_name": "ProgressStyleModel",
      "_view_count": null,
      "_view_module": "@jupyter-widgets/base",
      "_view_module_version": "1.2.0",
      "_view_name": "StyleView",
      "bar_color": null,
      "description_width": "initial"
     }
    },
    "51d11795cfad440c9af57e542f3b822c": {
     "model_module": "@jupyter-widgets/base",
     "model_name": "LayoutModel",
     "state": {
      "_model_module": "@jupyter-widgets/base",
      "_model_module_version": "1.2.0",
      "_model_name": "LayoutModel",
      "_view_count": null,
      "_view_module": "@jupyter-widgets/base",
      "_view_module_version": "1.2.0",
      "_view_name": "LayoutView",
      "align_content": null,
      "align_items": null,
      "align_self": null,
      "border": null,
      "bottom": null,
      "display": null,
      "flex": null,
      "flex_flow": null,
      "grid_area": null,
      "grid_auto_columns": null,
      "grid_auto_flow": null,
      "grid_auto_rows": null,
      "grid_column": null,
      "grid_gap": null,
      "grid_row": null,
      "grid_template_areas": null,
      "grid_template_columns": null,
      "grid_template_rows": null,
      "height": null,
      "justify_content": null,
      "justify_items": null,
      "left": null,
      "margin": null,
      "max_height": null,
      "max_width": null,
      "min_height": null,
      "min_width": null,
      "object_fit": null,
      "object_position": null,
      "order": null,
      "overflow": null,
      "overflow_x": null,
      "overflow_y": null,
      "padding": null,
      "right": null,
      "top": null,
      "visibility": null,
      "width": null
     }
    },
    "5820b3a726ea4b63b0c8f8e37804d026": {
     "model_module": "@jupyter-widgets/base",
     "model_name": "LayoutModel",
     "state": {
      "_model_module": "@jupyter-widgets/base",
      "_model_module_version": "1.2.0",
      "_model_name": "LayoutModel",
      "_view_count": null,
      "_view_module": "@jupyter-widgets/base",
      "_view_module_version": "1.2.0",
      "_view_name": "LayoutView",
      "align_content": null,
      "align_items": null,
      "align_self": null,
      "border": null,
      "bottom": null,
      "display": null,
      "flex": null,
      "flex_flow": null,
      "grid_area": null,
      "grid_auto_columns": null,
      "grid_auto_flow": null,
      "grid_auto_rows": null,
      "grid_column": null,
      "grid_gap": null,
      "grid_row": null,
      "grid_template_areas": null,
      "grid_template_columns": null,
      "grid_template_rows": null,
      "height": null,
      "justify_content": null,
      "justify_items": null,
      "left": null,
      "margin": null,
      "max_height": null,
      "max_width": null,
      "min_height": null,
      "min_width": null,
      "object_fit": null,
      "object_position": null,
      "order": null,
      "overflow": null,
      "overflow_x": null,
      "overflow_y": null,
      "padding": null,
      "right": null,
      "top": null,
      "visibility": null,
      "width": null
     }
    },
    "5d4b945074cc47e8bbebcd62f5922b3b": {
     "model_module": "@jupyter-widgets/controls",
     "model_name": "IntProgressModel",
     "state": {
      "_dom_classes": [],
      "_model_module": "@jupyter-widgets/controls",
      "_model_module_version": "1.5.0",
      "_model_name": "IntProgressModel",
      "_view_count": null,
      "_view_module": "@jupyter-widgets/controls",
      "_view_module_version": "1.5.0",
      "_view_name": "ProgressView",
      "bar_style": "success",
      "description": "100%",
      "description_tooltip": null,
      "layout": "IPY_MODEL_b7fed69ed303478895f8c341717177b9",
      "max": 200.0,
      "min": 0.0,
      "orientation": "horizontal",
      "style": "IPY_MODEL_1b2e12003ff54b95b51a0d9b4e5fddf2",
      "value": 200.0
     }
    },
    "7d3afa07de2642188630eb63c5c275d5": {
     "model_module": "@jupyter-widgets/controls",
     "model_name": "DescriptionStyleModel",
     "state": {
      "_model_module": "@jupyter-widgets/controls",
      "_model_module_version": "1.5.0",
      "_model_name": "DescriptionStyleModel",
      "_view_count": null,
      "_view_module": "@jupyter-widgets/base",
      "_view_module_version": "1.2.0",
      "_view_name": "StyleView",
      "description_width": ""
     }
    },
    "890d496bb8a4485d8c122b13ed54a5f8": {
     "model_module": "@jupyter-widgets/controls",
     "model_name": "HTMLModel",
     "state": {
      "_dom_classes": [],
      "_model_module": "@jupyter-widgets/controls",
      "_model_module_version": "1.5.0",
      "_model_name": "HTMLModel",
      "_view_count": null,
      "_view_module": "@jupyter-widgets/controls",
      "_view_module_version": "1.5.0",
      "_view_name": "HTMLView",
      "description": "",
      "description_tooltip": null,
      "layout": "IPY_MODEL_5820b3a726ea4b63b0c8f8e37804d026",
      "placeholder": "​",
      "style": "IPY_MODEL_7d3afa07de2642188630eb63c5c275d5",
      "value": " 200/200 [1:18:21&lt;00:00, 23.51s/it]"
     }
    },
    "9618acda0033425d98a0c46513777009": {
     "model_module": "@jupyter-widgets/controls",
     "model_name": "HTMLModel",
     "state": {
      "_dom_classes": [],
      "_model_module": "@jupyter-widgets/controls",
      "_model_module_version": "1.5.0",
      "_model_name": "HTMLModel",
      "_view_count": null,
      "_view_module": "@jupyter-widgets/controls",
      "_view_module_version": "1.5.0",
      "_view_name": "HTMLView",
      "description": "",
      "description_tooltip": null,
      "layout": "IPY_MODEL_9d8fc3840b1f45418ab37a3f9393d51b",
      "placeholder": "​",
      "style": "IPY_MODEL_9dd5a3eb73464580bc8cf20b3c4e375b",
      "value": " 455/455 [51:59&lt;00:00,  6.86s/it]"
     }
    },
    "9d8fc3840b1f45418ab37a3f9393d51b": {
     "model_module": "@jupyter-widgets/base",
     "model_name": "LayoutModel",
     "state": {
      "_model_module": "@jupyter-widgets/base",
      "_model_module_version": "1.2.0",
      "_model_name": "LayoutModel",
      "_view_count": null,
      "_view_module": "@jupyter-widgets/base",
      "_view_module_version": "1.2.0",
      "_view_name": "LayoutView",
      "align_content": null,
      "align_items": null,
      "align_self": null,
      "border": null,
      "bottom": null,
      "display": null,
      "flex": null,
      "flex_flow": null,
      "grid_area": null,
      "grid_auto_columns": null,
      "grid_auto_flow": null,
      "grid_auto_rows": null,
      "grid_column": null,
      "grid_gap": null,
      "grid_row": null,
      "grid_template_areas": null,
      "grid_template_columns": null,
      "grid_template_rows": null,
      "height": null,
      "justify_content": null,
      "justify_items": null,
      "left": null,
      "margin": null,
      "max_height": null,
      "max_width": null,
      "min_height": null,
      "min_width": null,
      "object_fit": null,
      "object_position": null,
      "order": null,
      "overflow": null,
      "overflow_x": null,
      "overflow_y": null,
      "padding": null,
      "right": null,
      "top": null,
      "visibility": null,
      "width": null
     }
    },
    "9dd5a3eb73464580bc8cf20b3c4e375b": {
     "model_module": "@jupyter-widgets/controls",
     "model_name": "DescriptionStyleModel",
     "state": {
      "_model_module": "@jupyter-widgets/controls",
      "_model_module_version": "1.5.0",
      "_model_name": "DescriptionStyleModel",
      "_view_count": null,
      "_view_module": "@jupyter-widgets/base",
      "_view_module_version": "1.2.0",
      "_view_name": "StyleView",
      "description_width": ""
     }
    },
    "b3946a8a63b6419ea391989dadbb6ceb": {
     "model_module": "@jupyter-widgets/base",
     "model_name": "LayoutModel",
     "state": {
      "_model_module": "@jupyter-widgets/base",
      "_model_module_version": "1.2.0",
      "_model_name": "LayoutModel",
      "_view_count": null,
      "_view_module": "@jupyter-widgets/base",
      "_view_module_version": "1.2.0",
      "_view_name": "LayoutView",
      "align_content": null,
      "align_items": null,
      "align_self": null,
      "border": null,
      "bottom": null,
      "display": null,
      "flex": null,
      "flex_flow": null,
      "grid_area": null,
      "grid_auto_columns": null,
      "grid_auto_flow": null,
      "grid_auto_rows": null,
      "grid_column": null,
      "grid_gap": null,
      "grid_row": null,
      "grid_template_areas": null,
      "grid_template_columns": null,
      "grid_template_rows": null,
      "height": null,
      "justify_content": null,
      "justify_items": null,
      "left": null,
      "margin": null,
      "max_height": null,
      "max_width": null,
      "min_height": null,
      "min_width": null,
      "object_fit": null,
      "object_position": null,
      "order": null,
      "overflow": null,
      "overflow_x": null,
      "overflow_y": null,
      "padding": null,
      "right": null,
      "top": null,
      "visibility": null,
      "width": null
     }
    },
    "b7fed69ed303478895f8c341717177b9": {
     "model_module": "@jupyter-widgets/base",
     "model_name": "LayoutModel",
     "state": {
      "_model_module": "@jupyter-widgets/base",
      "_model_module_version": "1.2.0",
      "_model_name": "LayoutModel",
      "_view_count": null,
      "_view_module": "@jupyter-widgets/base",
      "_view_module_version": "1.2.0",
      "_view_name": "LayoutView",
      "align_content": null,
      "align_items": null,
      "align_self": null,
      "border": null,
      "bottom": null,
      "display": null,
      "flex": null,
      "flex_flow": null,
      "grid_area": null,
      "grid_auto_columns": null,
      "grid_auto_flow": null,
      "grid_auto_rows": null,
      "grid_column": null,
      "grid_gap": null,
      "grid_row": null,
      "grid_template_areas": null,
      "grid_template_columns": null,
      "grid_template_rows": null,
      "height": null,
      "justify_content": null,
      "justify_items": null,
      "left": null,
      "margin": null,
      "max_height": null,
      "max_width": null,
      "min_height": null,
      "min_width": null,
      "object_fit": null,
      "object_position": null,
      "order": null,
      "overflow": null,
      "overflow_x": null,
      "overflow_y": null,
      "padding": null,
      "right": null,
      "top": null,
      "visibility": null,
      "width": null
     }
    },
    "b9aa079d35274231b9a666636ef8ac73": {
     "model_module": "@jupyter-widgets/base",
     "model_name": "LayoutModel",
     "state": {
      "_model_module": "@jupyter-widgets/base",
      "_model_module_version": "1.2.0",
      "_model_name": "LayoutModel",
      "_view_count": null,
      "_view_module": "@jupyter-widgets/base",
      "_view_module_version": "1.2.0",
      "_view_name": "LayoutView",
      "align_content": null,
      "align_items": null,
      "align_self": null,
      "border": null,
      "bottom": null,
      "display": null,
      "flex": null,
      "flex_flow": null,
      "grid_area": null,
      "grid_auto_columns": null,
      "grid_auto_flow": null,
      "grid_auto_rows": null,
      "grid_column": null,
      "grid_gap": null,
      "grid_row": null,
      "grid_template_areas": null,
      "grid_template_columns": null,
      "grid_template_rows": null,
      "height": null,
      "justify_content": null,
      "justify_items": null,
      "left": null,
      "margin": null,
      "max_height": null,
      "max_width": null,
      "min_height": null,
      "min_width": null,
      "object_fit": null,
      "object_position": null,
      "order": null,
      "overflow": null,
      "overflow_x": null,
      "overflow_y": null,
      "padding": null,
      "right": null,
      "top": null,
      "visibility": null,
      "width": null
     }
    },
    "bc5b4b5506ef410bbcdbc81186d03ece": {
     "model_module": "@jupyter-widgets/controls",
     "model_name": "HBoxModel",
     "state": {
      "_dom_classes": [],
      "_model_module": "@jupyter-widgets/controls",
      "_model_module_version": "1.5.0",
      "_model_name": "HBoxModel",
      "_view_count": null,
      "_view_module": "@jupyter-widgets/controls",
      "_view_module_version": "1.5.0",
      "_view_name": "HBoxView",
      "box_style": "",
      "children": [
       "IPY_MODEL_fab427ca30ed482fa78d5e69e419a6ac",
       "IPY_MODEL_9618acda0033425d98a0c46513777009"
      ],
      "layout": "IPY_MODEL_b3946a8a63b6419ea391989dadbb6ceb"
     }
    },
    "f902fbc0923546e38862d993aa5e78f0": {
     "model_module": "@jupyter-widgets/controls",
     "model_name": "ProgressStyleModel",
     "state": {
      "_model_module": "@jupyter-widgets/controls",
      "_model_module_version": "1.5.0",
      "_model_name": "ProgressStyleModel",
      "_view_count": null,
      "_view_module": "@jupyter-widgets/base",
      "_view_module_version": "1.2.0",
      "_view_name": "StyleView",
      "bar_color": null,
      "description_width": "initial"
     }
    },
    "fab427ca30ed482fa78d5e69e419a6ac": {
     "model_module": "@jupyter-widgets/controls",
     "model_name": "IntProgressModel",
     "state": {
      "_dom_classes": [],
      "_model_module": "@jupyter-widgets/controls",
      "_model_module_version": "1.5.0",
      "_model_name": "IntProgressModel",
      "_view_count": null,
      "_view_module": "@jupyter-widgets/controls",
      "_view_module_version": "1.5.0",
      "_view_name": "ProgressView",
      "bar_style": "success",
      "description": "100%",
      "description_tooltip": null,
      "layout": "IPY_MODEL_b9aa079d35274231b9a666636ef8ac73",
      "max": 455.0,
      "min": 0.0,
      "orientation": "horizontal",
      "style": "IPY_MODEL_f902fbc0923546e38862d993aa5e78f0",
      "value": 455.0
     }
    }
   }
  }
 },
 "nbformat": 4,
 "nbformat_minor": 1
}