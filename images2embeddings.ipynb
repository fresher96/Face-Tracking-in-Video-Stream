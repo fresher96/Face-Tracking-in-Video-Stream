{
 "cells": [
  {
   "cell_type": "markdown",
   "source": [
    "# Images to Embeddings\n",
    "This code will read the images provided in\n",
    "`./database/Images/`\n",
    "and store their embeddings in\n",
    "`./database/Face.json`.\n"
   ],
   "metadata": {
    "collapsed": false,
    "pycharm": {
     "name": "#%% md\n"
    }
   }
  },
  {
   "cell_type": "code",
   "execution_count": 1,
   "metadata": {
    "collapsed": true
   },
   "outputs": [
    {
     "data": {
      "text/plain": "'./database/Face.json'"
     },
     "execution_count": 1,
     "metadata": {},
     "output_type": "execute_result"
    }
   ],
   "source": [
    "import config_file;\n",
    "configs = config_file.get_configs();\n",
    "configs['db_face']"
   ]
  },
  {
   "cell_type": "code",
   "execution_count": null,
   "outputs": [],
   "source": [
    "import face_recognition\n",
    "import os\n",
    "\n",
    "\n",
    "known_faces = [];\n",
    "known_names = [];\n",
    "for file in os.listdir(configs['Face']):\n",
    "    if(file.endswith('.jpg')):\n",
    "        path = os.path.join(facesDir, file);\n",
    "        name = file[:-4];\n",
    "\n",
    "        img = face_recognition.load_image_file(path);\n",
    "        face_encoding = face_recognition.face_encodings(img)[0]\n",
    "\n",
    "        self.known_faces.append(face_encoding);\n",
    "        self.known_names.append(name);"
   ],
   "metadata": {
    "collapsed": false,
    "pycharm": {
     "name": "#%%\n"
    }
   }
  }
 ],
 "metadata": {
  "kernelspec": {
   "display_name": "PyCharm (AIR_project)",
   "language": "python",
   "name": "pycharm-ad0ef9b5"
  },
  "language_info": {
   "codemirror_mode": {
    "name": "ipython",
    "version": 2
   },
   "file_extension": ".py",
   "mimetype": "text/x-python",
   "name": "python",
   "nbconvert_exporter": "python",
   "pygments_lexer": "ipython2",
   "version": "2.7.6"
  },
  "pycharm": {
   "stem_cell": {
    "cell_type": "raw",
    "source": [
     "\n",
     "\n",
     "\n",
     "\n"
    ],
    "metadata": {
     "collapsed": false
    }
   }
  }
 },
 "nbformat": 4,
 "nbformat_minor": 0
}