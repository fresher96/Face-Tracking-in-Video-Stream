{
 "cells": [
  {
   "cell_type": "markdown",
   "source": [
    "# Images to Embeddings\n",
    "This code will read the images provided in\n",
    "`./database/Images/`\n",
    "and store their embeddings in\n",
    "`./database/Face.json`.\n"
   ],
   "metadata": {
    "collapsed": false,
    "pycharm": {
     "name": "#%% md\n"
    }
   }
  },
  {
   "cell_type": "code",
   "execution_count": 1,
   "metadata": {
    "collapsed": true
   },
   "outputs": [
    {
     "data": {
      "text/plain": "'./database/Face.json'"
     },
     "execution_count": 1,
     "metadata": {},
     "output_type": "execute_result"
    }
   ],
   "source": [
    "import config_file;\n",
    "configs = config_file.readConfigs();\n",
    "configs['db_face']"
   ]
  },
  {
   "cell_type": "code",
   "execution_count": 4,
   "outputs": [
    {
     "data": {
      "text/plain": "HBox(children=(FloatProgress(value=0.0, max=10.0), HTML(value='')))",
      "application/vnd.jupyter.widget-view+json": {
       "version_major": 2,
       "version_minor": 0,
       "model_id": "12b97f92301041d2bbd0cf762a3697c6"
      }
     },
     "metadata": {},
     "output_type": "display_data"
    },
    {
     "name": "stdout",
     "output_type": "stream",
     "text": [
      "processing  andrey.jpg\n",
      "processing  artem.jpg\n",
      "processing  elenora.jpg\n",
      "processing  farouk.jpg\n",
      "processing  jafar.jpg\n",
      "processing  maxim.jpg\n",
      "processing  sergey.jpg\n",
      "processing  vinera.jpg\n",
      "processing  zamira.jpg\n",
      "processing  zuhair.jpg\n",
      "\n"
     ]
    }
   ],
   "source": [
    "import face_recognition;\n",
    "import os;\n",
    "from tqdm.notebook import tqdm;\n",
    "\n",
    "embeddings = [];\n",
    "people = [];\n",
    "\n",
    "for file in tqdm(os.listdir(configs['db_image'])):\n",
    "    if(file.endswith('.jpg') or file.endswith('.jpeg') or file.endswith('.png')):\n",
    "        path = os.path.join(configs['db_image'], file);\n",
    "        name = file[:-4];\n",
    "\n",
    "        img = face_recognition.load_image_file(path);\n",
    "        face_encoding = face_recognition.face_encodings(img, model='large')[0]\n",
    "\n",
    "        # print(name);\n",
    "        # print(face_encoding)\n",
    "\n",
    "        print('processing ', file);\n",
    "\n",
    "        people.append({\n",
    "            'id': len(people),\n",
    "            'face': len(embeddings),\n",
    "            'name': name\n",
    "        });\n",
    "\n",
    "        embeddings.append({\n",
    "            'id': len(embeddings),\n",
    "            'embedding': list(face_encoding)\n",
    "        });\n"
   ],
   "metadata": {
    "collapsed": false,
    "pycharm": {
     "name": "#%%\n"
    }
   }
  },
  {
   "cell_type": "code",
   "execution_count": 5,
   "outputs": [],
   "source": [
    "import json\n",
    "\n",
    "with open(configs['db_face'], 'w', encoding='utf-8') as f:\n",
    "    json.dump(embeddings, f, ensure_ascii=False, indent=4);\n",
    "\n",
    "with open(configs['db_person'], 'w', encoding='utf-8') as f:\n",
    "    json.dump(people, f, ensure_ascii=False, indent=4);\n"
   ],
   "metadata": {
    "collapsed": false,
    "pycharm": {
     "name": "#%%\n"
    }
   }
  }
 ],
 "metadata": {
  "kernelspec": {
   "display_name": "PyCharm (AIR_project)",
   "language": "python",
   "name": "pycharm-ad0ef9b5"
  },
  "language_info": {
   "codemirror_mode": {
    "name": "ipython",
    "version": 2
   },
   "file_extension": ".py",
   "mimetype": "text/x-python",
   "name": "python",
   "nbconvert_exporter": "python",
   "pygments_lexer": "ipython2",
   "version": "2.7.6"
  },
  "pycharm": {
   "stem_cell": {
    "cell_type": "raw",
    "source": [
     "\n",
     "\n",
     "\n",
     "\n"
    ],
    "metadata": {
     "collapsed": false
    }
   }
  }
 },
 "nbformat": 4,
 "nbformat_minor": 0
}