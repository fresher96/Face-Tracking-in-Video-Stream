{
 "cells": [
  {
   "cell_type": "markdown",
   "metadata": {},
   "source": [
    "# IP WebCam url"
   ]
  },
  {
   "cell_type": "code",
   "execution_count": 8,
   "metadata": {},
   "outputs": [
    {
     "data": {
      "text/plain": [
       "'http://192.168.0.103:8080/shot.jpg'"
      ]
     },
     "execution_count": 8,
     "metadata": {},
     "output_type": "execute_result"
    }
   ],
   "source": [
    "import config_file;\n",
    "\n",
    "configs = config_file.readConfigs();\n",
    "cameraUrl = 'http://' + configs['camera_url2'];\n",
    "cameraUrl"
   ]
  },
  {
   "cell_type": "markdown",
   "metadata": {},
   "source": [
    "# Mobile Camera Streaming"
   ]
  },
  {
   "cell_type": "code",
   "execution_count": 9,
   "metadata": {},
   "outputs": [],
   "source": [
    "import numpy as np;\n",
    "import requests;\n",
    "import cherrypy;\n",
    "import cv2;\n",
    "import IPython;\n",
    "import sys;"
   ]
  },
  {
   "cell_type": "code",
   "execution_count": 10,
   "metadata": {},
   "outputs": [],
   "source": [
    "class CameraLocal():\n",
    "    \n",
    "    def __init__(self, cameraUrl):\n",
    "        self.url = cameraUrl;\n",
    "        \n",
    "    def getFrame(self):\n",
    "        img_resp = requests.get(self.url);\n",
    "        return img_resp;\n",
    "    \n",
    "    def getImage(self):\n",
    "        img = self.getFrame();\n",
    "        img = np.array(bytearray(img.content), dtype=np.uint8);\n",
    "        \n",
    "        img = cv2.imdecode(img, cv2.IMREAD_COLOR);\n",
    "        img = cv2.cvtColor(img, cv2.COLOR_BGR2RGB)\n",
    "\n",
    "        return img;"
   ]
  },
  {
   "cell_type": "code",
   "execution_count": 11,
   "metadata": {},
   "outputs": [],
   "source": [
    "class CameraWebService():\n",
    "    \n",
    "    def __init__(self, camera):\n",
    "        self.camera = camera;\n",
    "    \n",
    "    @cherrypy.expose\n",
    "    def index(self):\n",
    "        output = self.camera.getFrame();\n",
    "        return output"
   ]
  },
  {
   "cell_type": "code",
   "execution_count": 12,
   "metadata": {},
   "outputs": [],
   "source": [
    "def testCaptureImage():\n",
    "    video = CameraLocal(cameraUrl);\n",
    "    \n",
    "    img = video.getImage();\n",
    "    img = cv2.cvtColor(img, cv2.COLOR_RGB2BGR);\n",
    "    \n",
    "    cv2.imshow('Android Camera', img);\n",
    "    cv2.waitKey(0);"
   ]
  },
  {
   "cell_type": "code",
   "execution_count": 13,
   "metadata": {},
   "outputs": [],
   "source": [
    "def launchService():\n",
    "    service = CameraWebService(CameraLocal(cameraUrl));\n",
    "    cherrypy.quickstart(service);"
   ]
  },
  {
   "cell_type": "code",
   "execution_count": null,
   "metadata": {
    "pycharm": {
     "name": "#%%\n"
    },
    "scrolled": true
   },
   "outputs": [
    {
     "name": "stderr",
     "output_type": "stream",
     "text": [
      "[26/Apr/2020:01:12:32] ENGINE Listening for SIGTERM.\n",
      "[26/Apr/2020:01:12:32] ENGINE Bus STARTING\n",
      "CherryPy Checker:\n",
      "The Application mounted at '' has an empty config.\n",
      "\n",
      "[26/Apr/2020:01:12:32] ENGINE Set handler for console events.\n",
      "[26/Apr/2020:01:12:32] ENGINE Started monitor thread 'Autoreloader'.\n",
      "[26/Apr/2020:01:12:32] ENGINE Serving on http://127.0.0.1:8080\n",
      "[26/Apr/2020:01:12:32] ENGINE Bus STARTED\n"
     ]
    },
    {
     "name": "stdout",
     "output_type": "stream",
     "text": [
      "127.0.0.1 - - [26/Apr/2020:01:12:44] \"GET / HTTP/1.1\" 200 42700 \"\" \"Mozilla/5.0 (Windows NT 6.1; Win64; x64; rv:75.0) Gecko/20100101 Firefox/75.0\"\n",
      "127.0.0.1 - - [26/Apr/2020:01:12:46] \"GET /favicon.ico HTTP/1.1\" 200 1406 \"\" \"Mozilla/5.0 (Windows NT 6.1; Win64; x64; rv:75.0) Gecko/20100101 Firefox/75.0\"\n"
     ]
    }
   ],
   "source": [
    "# print(cameraUrl);\n",
    "# testCaptureImage();\n",
    "launchService();\n"
   ]
  }
 ],
 "metadata": {
  "kernelspec": {
   "display_name": "PyCharm (AIR_project)",
   "language": "python",
   "name": "pycharm-ad0ef9b5"
  },
  "language_info": {
   "codemirror_mode": {
    "name": "ipython",
    "version": 3
   },
   "file_extension": ".py",
   "mimetype": "text/x-python",
   "name": "python",
   "nbconvert_exporter": "python",
   "pygments_lexer": "ipython3",
   "version": "3.6.5"
  }
 },
 "nbformat": 4,
 "nbformat_minor": 1
}
